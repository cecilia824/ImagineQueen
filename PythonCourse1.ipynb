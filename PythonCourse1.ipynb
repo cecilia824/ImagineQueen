{
  "nbformat": 4,
  "nbformat_minor": 0,
  "metadata": {
    "colab": {
      "name": "PythonCourse1.ipynb",
      "provenance": [],
      "collapsed_sections": [],
      "include_colab_link": true
    },
    "kernelspec": {
      "name": "python3",
      "display_name": "Python 3"
    }
  },
  "cells": [
    {
      "cell_type": "markdown",
      "metadata": {
        "id": "view-in-github",
        "colab_type": "text"
      },
      "source": [
        "<a href=\"https://colab.research.google.com/github/cecilia824/ImagineQueen/blob/master/PythonCourse1.ipynb\" target=\"_parent\"><img src=\"https://colab.research.google.com/assets/colab-badge.svg\" alt=\"Open In Colab\"/></a>"
      ]
    },
    {
      "cell_type": "code",
      "metadata": {
        "id": "OAOZv0mz1f5L",
        "colab_type": "code",
        "outputId": "686ed58b-0c00-4b10-c450-ca781eed9ced",
        "colab": {
          "base_uri": "https://localhost:8080/",
          "height": 51
        }
      },
      "source": [
        "name = input(\"hey, what's your name?\") #Course 1 HW 2-2\n",
        "print(\"Hello\", name)"
      ],
      "execution_count": 0,
      "outputs": [
        {
          "output_type": "stream",
          "text": [
            "hey, what's your name?Cecilia\n",
            "Hello Cecilia\n"
          ],
          "name": "stdout"
        }
      ]
    },
    {
      "cell_type": "code",
      "metadata": {
        "id": "2IwHBO5N2Jen",
        "colab_type": "code",
        "outputId": "fb7324fb-9c02-4b26-a835-4fb2518a10a6",
        "colab": {
          "base_uri": "https://localhost:8080/",
          "height": 68
        }
      },
      "source": [
        "# Write a program to prompt the user for hours and rate per hour using input to compute gross pay. \n",
        "# Use 35 hours and a rate of 2.75 per hour to test the program (the pay should be 96.25). \n",
        "# You should use input to read a string and float() to convert the string to a number.\n",
        "# Course 1 HW 2-3\n",
        "\n",
        "Userhour = input(\"how many hours do you use?\")\n",
        "Rate = input(\"how much is the rate?\")\n",
        "gross_pay = float(Userhour) * float(Rate)\n",
        "print(\"your gross pay is\", gross_pay)\n"
      ],
      "execution_count": 0,
      "outputs": [
        {
          "output_type": "stream",
          "text": [
            "how many hours do you use?35\n",
            "how much is the rate?2.75\n",
            "your gross pay is 96.25\n"
          ],
          "name": "stdout"
        }
      ]
    },
    {
      "cell_type": "code",
      "metadata": {
        "id": "l0fMQ_CV3TEk",
        "colab_type": "code",
        "outputId": "cd262920-6831-436a-dc1d-3e0d1cede7a8",
        "colab": {
          "base_uri": "https://localhost:8080/",
          "height": 68
        }
      },
      "source": [
        " # Write a program to prompt the user for hours and rate per hour using input to compute gross pay. \n",
        " # Pay the hourly rate for the hours up to 40 and 1.5 times the hourly rate for all hours worked above 40 hours. \n",
        " # Use 45 hours and a rate of 10.50 per hour to test the program (the pay should be 498.75). \n",
        " # You should use input to read a string and float() to convert the string to a number.\n",
        " # Course 1 HW 3-1\n",
        " \n",
        "Userhour2 = input(\"How many hours do you use?\")\n",
        "Rate2 = input(\"how much is the rate?\")\n",
        "Userhour2 = float(Userhour2)\n",
        "Rate2 = float(Rate2)\n",
        "if Userhour2 <= 40 :\n",
        "  gross_pay2 = Userhour2 * Rate2 \n",
        "else:\n",
        "  gross_pay2 = 1.5*(Userhour2 - 40)*Rate2 + 40*Rate2\n",
        "print(\"your gross pay is\", gross_pay2)\n"
      ],
      "execution_count": 0,
      "outputs": [
        {
          "output_type": "stream",
          "text": [
            "How many hours do you use?45\n",
            "how much is the rate?10.5\n",
            "your gross pay is 498.75\n"
          ],
          "name": "stdout"
        }
      ]
    },
    {
      "cell_type": "code",
      "metadata": {
        "id": "xglQ9Z634yNP",
        "colab_type": "code",
        "outputId": "393c9ae0-dfdb-45e4-a027-78bb47a85680",
        "colab": {
          "base_uri": "https://localhost:8080/",
          "height": 51
        }
      },
      "source": [
        "# Write a program to prompt for a score between 0.0 and 1.0. If the score is out of range, print an error. \n",
        "# If the score is between 0.0 and 1.0, print a grade using the following table:\n",
        "# Score Grade\n",
        "# >= 0.9 A\n",
        "# >= 0.8 B\n",
        "# >= 0.7 C\n",
        "# >= 0.6 D\n",
        "# < 0.6 F\n",
        "# If the user enters a value out of range, print a suitable error message and exit. For the test, enter a score of 0.85.\n",
        "# Course 1 HW 3-3\n",
        "\n",
        "Grade = input (\"how many points do you get?\")\n",
        "grade = float(Grade)\n",
        "if grade >= 0.9:\n",
        "  print(\"A\")\n",
        "elif grade >= 0.8:\n",
        "  print(\"B\")\n",
        "elif grade >= 0.7:\n",
        "  print(\"C\")\n",
        "elif grade >= 0.6:\n",
        "  print(\"D\")\n",
        "elif grade < 0.6 :\n",
        "  print(\"F\")\n",
        "else:\n",
        "  print(\"please answer the correct grade.\")\n",
        "quit()\n"
      ],
      "execution_count": 0,
      "outputs": [
        {
          "output_type": "stream",
          "text": [
            "how many points do you get?0.85\n",
            "B\n"
          ],
          "name": "stdout"
        }
      ]
    },
    {
      "cell_type": "code",
      "metadata": {
        "id": "ad1AW9T0ekEX",
        "colab_type": "code",
        "colab": {
          "base_uri": "https://localhost:8080/",
          "height": 68
        },
        "outputId": "05ec66fa-6c13-4b4d-be8a-40bcc6eeb74e"
      },
      "source": [
        "# Write a program to prompt the user for hours and rate per hour using input to compute gross pay. \n",
        "# Pay should be the normal rate for hours up to 40 and time-and-a-half for the hourly rate for all hours worked above 40 hours. \n",
        "# Put the logic to do the computation of pay in a function called computepay() and use the function to do the computation. \n",
        "# The function should return a value. Use 45 hours and a rate of 10.50 per hour to test the program (the pay should be 498.75).\n",
        "# You should use input to read a string and float() to convert the string to a number.\n",
        "# Do not worry about error checking the user input unless you want to - you can assume the user types numbers properly.\n",
        "# Do not name your variable sum or use the sum() function.\n",
        "# Course1 HW 4-6\n",
        "\n",
        "def computepay(hr,rt):\n",
        "  if hr > 40:\n",
        "    print(40*rt + (hr-40)*rt*1.5)\n",
        "  else:\n",
        "    print(hr*rt)\n",
        "\n",
        "hr = input(\"user hour\")\n",
        "hr = float(hr)\n",
        "rt = input(\"rate\")\n",
        "rt = float(rt)\n",
        "computepay(hr,rt)\n",
        "\n",
        "  "
      ],
      "execution_count": 3,
      "outputs": [
        {
          "output_type": "stream",
          "text": [
            "user hour45\n",
            "rate10.5\n",
            "498.75\n"
          ],
          "name": "stdout"
        }
      ]
    },
    {
      "cell_type": "code",
      "metadata": {
        "id": "WJbAcpNtc94f",
        "colab_type": "code",
        "colab": {
          "base_uri": "https://localhost:8080/",
          "height": 170
        },
        "outputId": "82ac8eec-2609-47cb-ef03-fcfdc45fbabb"
      },
      "source": [
        "# Write a program that repeatedly prompts a user for integer numbers until the user enters 'done'. Once 'done' is entered, \n",
        "# print out the largest and smallest of the numbers. \n",
        "# If the user enters anything other than a valid number catch it with a try/except and put out an appropriate message and ignore the number. \n",
        "# Enter 7, 2, bob, 10, and 4 and match the output below.\n",
        "\n",
        "# Invalid input\n",
        "# Maximum is 10\n",
        "# Minimum is 2\n",
        "\n",
        "# Course1 HW 5-2\n",
        "\n",
        "largest = None\n",
        "smallest = None\n",
        "lst=[]\n",
        "\n",
        "\n",
        "while True: #while True 無限循環 除了break以外都會無限循環\n",
        "  inp = input(\"please input numbers and done to finish.\")\n",
        "  if inp == \"done\":\n",
        "    break #跳出循環\n",
        "  try:\n",
        "    inp = float(inp) #看看inp是否是數值\n",
        "    lst.append(inp)\n",
        "  except:\n",
        "    print(\"Invalid input\") #若並非數值則顯示invalid\n",
        "  \n",
        "\n",
        "for i in lst:\n",
        "  if largest is None:\n",
        "    largest = i\n",
        "  elif i > largest:\n",
        "    largest = i\n",
        "print(\"Maximum is\", largest)\n",
        "\n",
        "for i in lst:\n",
        "  if smallest is None:\n",
        "    smallest = i\n",
        "  elif i < smallest:\n",
        "    smallest = i\n",
        "print(\"Minimum is\", smallest)\n",
        "\n",
        "\n",
        "        "
      ],
      "execution_count": 28,
      "outputs": [
        {
          "output_type": "stream",
          "text": [
            "please input numbers and done to finish.7\n",
            "please input numbers and done to finish.2\n",
            "please input numbers and done to finish.10\n",
            "please input numbers and done to finish.4\n",
            "please input numbers and done to finish.bob\n",
            "Invalid input\n",
            "please input numbers and done to finish.done\n",
            "Maximum is 10.0\n",
            "Minimum is 2.0\n"
          ],
          "name": "stdout"
        }
      ]
    },
    {
      "cell_type": "code",
      "metadata": {
        "id": "EpFDdD6he0ud",
        "colab_type": "code",
        "colab": {}
      },
      "source": [
        ""
      ],
      "execution_count": 0,
      "outputs": []
    }
  ]
}